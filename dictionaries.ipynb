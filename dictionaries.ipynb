{
  "cells": [
    {
      "cell_type": "markdown",
      "metadata": {
        "id": "OW6jpaLJHbEM"
      },
      "source": [
        "# Dictionaries\n",
        "\n",
        "(Credit goes to Micah Saxton for the initial code used in this lab.)\n",
        "\n",
        "Although maybe it's been a while since you've picked up a paper dictionary, you probably remember how to use one: you look up a definition by finding the word — the lemma — in its particular place in the alphabetized list of all lemmata. You might have to perform additional lookups along the way, but essentially each action is determining a **key** and retrieving its corresponding **value**."
      ]
    },
    {
      "cell_type": "markdown",
      "metadata": {
        "id": "o4VedOEwHbEN"
      },
      "source": [
        "## Creating a dictionary"
      ]
    },
    {
      "cell_type": "code",
      "execution_count": null,
      "metadata": {
        "id": "ew6AXdsOHbEN"
      },
      "outputs": [],
      "source": [
        "# simple example\n",
        "Butler = {'genre': 'science fiction', 'award': 'hugo'}"
      ]
    },
    {
      "cell_type": "markdown",
      "metadata": {
        "id": "zYX1a8o0HbEO"
      },
      "source": [
        "## Accessing information within a dictionary"
      ]
    },
    {
      "cell_type": "code",
      "execution_count": null,
      "metadata": {
        "id": "3K7zj6UPHbEO"
      },
      "outputs": [],
      "source": [
        "print(Butler['genre'])"
      ]
    },
    {
      "cell_type": "code",
      "execution_count": null,
      "metadata": {
        "id": "urniKs8XHbEP"
      },
      "outputs": [],
      "source": [
        "print(Butler['award'])"
      ]
    },
    {
      "cell_type": "markdown",
      "metadata": {
        "id": "isovs2eJHbEP"
      },
      "source": [
        "## Adding information to a dictionary"
      ]
    },
    {
      "cell_type": "code",
      "execution_count": null,
      "metadata": {
        "id": "5IPUvZEwHbEQ"
      },
      "outputs": [],
      "source": [
        "Butler['birth_year'] = 1947"
      ]
    },
    {
      "cell_type": "code",
      "execution_count": null,
      "metadata": {
        "id": "PbRgxZUTHbEQ"
      },
      "outputs": [],
      "source": [
        "Butler"
      ]
    },
    {
      "cell_type": "code",
      "execution_count": null,
      "metadata": {
        "id": "7jZ3jA6GHbER"
      },
      "outputs": [],
      "source": [
        "Robinson = {}"
      ]
    },
    {
      "cell_type": "code",
      "execution_count": null,
      "metadata": {
        "id": "42xgGcwFHbER"
      },
      "outputs": [],
      "source": [
        "Robinson['genre'] = 'science fiction'\n",
        "Robinson['award'] = 'hugo'\n",
        "Robinson['birth_year'] = 1952"
      ]
    },
    {
      "cell_type": "code",
      "execution_count": null,
      "metadata": {
        "id": "h1vzb-wgHbER"
      },
      "outputs": [],
      "source": [
        "Robinson"
      ]
    },
    {
      "cell_type": "markdown",
      "metadata": {
        "id": "9b_m5vMVHbER"
      },
      "source": [
        "## iterating through a dictionary"
      ]
    },
    {
      "cell_type": "code",
      "execution_count": null,
      "metadata": {
        "id": "6V_d_UfIHbER"
      },
      "outputs": [],
      "source": [
        "for k, v in Robinson.items():\n",
        "    print(f\"Key: {k}\")\n",
        "    print(f\"Value: {v}\")"
      ]
    },
    {
      "cell_type": "code",
      "execution_count": null,
      "metadata": {
        "id": "FZphU5oGHbER"
      },
      "outputs": [],
      "source": [
        "for key in Robinson.keys():\n",
        "    print(key)"
      ]
    },
    {
      "cell_type": "code",
      "execution_count": null,
      "metadata": {
        "id": "vLGlS-gtHbES"
      },
      "outputs": [],
      "source": [
        "for value in Robinson.values():\n",
        "    print(value)"
      ]
    },
    {
      "cell_type": "markdown",
      "metadata": {
        "id": "nNKdemJ6HbES"
      },
      "source": [
        "## Lists of dictionaries"
      ]
    },
    {
      "cell_type": "code",
      "execution_count": null,
      "metadata": {
        "id": "o-BxDiM3HbES"
      },
      "outputs": [],
      "source": [
        "sf_authors =[Butler, Robinson]"
      ]
    },
    {
      "cell_type": "code",
      "execution_count": null,
      "metadata": {
        "id": "Pacq3IfOHbES"
      },
      "outputs": [],
      "source": [
        "sf_authors"
      ]
    },
    {
      "cell_type": "code",
      "execution_count": null,
      "metadata": {
        "id": "3P49uPh2HbES"
      },
      "outputs": [],
      "source": [
        "sf_authors[0]"
      ]
    },
    {
      "cell_type": "code",
      "execution_count": null,
      "metadata": {
        "id": "TxIuFP5NHbES"
      },
      "outputs": [],
      "source": [
        "Butler_born = sf_authors[0]['birth_year']\n",
        "print(Butler_born)"
      ]
    },
    {
      "cell_type": "markdown",
      "metadata": {},
      "source": [
        "## Nested dictionaries\n",
        "\n",
        "Remember how we said at the beginning of the lab how you might have to perform additional lookups as you're working through the dictionary? We can simulate these kinds of lookups via nested dictionaries: just like you can have a list that contains other lists (and so on), you can have a dictionary that contains other dictionaries."
      ]
    },
    {
      "cell_type": "code",
      "execution_count": null,
      "metadata": {},
      "outputs": [],
      "source": [
        "my_dictionary = {\n",
        "    'a': {\n",
        "        'aa': [],\n",
        "        'ab': [],\n",
        "        'ac': []\n",
        "    },\n",
        "    'b': {\n",
        "        'ba': [],\n",
        "        'bd': [],\n",
        "        'be': []\n",
        "    },\n",
        "    'c': {\n",
        "        'ca': [],\n",
        "        'ce': [],\n",
        "        'ch': []\n",
        "    }\n",
        "}"
      ]
    },
    {
      "cell_type": "markdown",
      "metadata": {},
      "source": [
        "To access the list at `a.ab`, we write `my_dictionary['a']['aa']`. Let's break that down:"
      ]
    },
    {
      "cell_type": "code",
      "execution_count": null,
      "metadata": {},
      "outputs": [],
      "source": [
        "intermediate_dictionary = my_dictionary['a']\n",
        "\n",
        "intermediate_dictionary"
      ]
    },
    {
      "cell_type": "code",
      "execution_count": null,
      "metadata": {},
      "outputs": [],
      "source": [
        "intermediate_dictionary['ab']"
      ]
    },
    {
      "cell_type": "code",
      "execution_count": null,
      "metadata": {},
      "outputs": [],
      "source": [
        "my_dictionary['a']['ab']"
      ]
    },
    {
      "cell_type": "markdown",
      "metadata": {},
      "source": [
        "## Coding Exercises\n",
        "\n",
        "### 1. Declaring strings\n",
        "\n",
        "Take the following passages and assign them to well-named variables:\n",
        "\n",
        "Thus Chryses pray’d:—the favouring power attends,\n",
        "And from Olympus’ lofty tops descends.\n",
        "Bent was his bow, the Grecian hearts to wound;\n",
        "Fierce as he moved, his silver shafts resound.\n",
        "Breathing revenge, a sudden night he spread,\n",
        "And gloomy darkness roll’d about his head.\n",
        "The fleet in view, he twang’d his deadly bow,\n",
        "And hissing fly the feather’d fates below.\n",
        "On mules and dogs the infection first began;\n",
        "And last, the vengeful arrows fix’d in man.\n",
        "For nine long nights, through all the dusky air,\n",
        "The pyres, thick-flaming, shot a dismal glare.\n",
        "But ere the tenth revolving day was run,\n",
        "Inspired by Juno, Thetis’ godlike son\n",
        "Convened to council all the Grecian train;\n",
        "For much the goddess mourn’d her heroes slain. (Pope, _Iliad_, Book 1)\n",
        "\n",
        "\n",
        "“Beloved of Jove, Achilles! would’st thou know\n",
        "Why angry Phœbus bends his fatal bow?\n",
        "First give thy faith, and plight a prince’s word\n",
        "Of sure protection, by thy power and sword:\n",
        "For I must speak what wisdom would conceal,\n",
        "And truths, invidious to the great, reveal,\n",
        "Bold is the task, when subjects, grown too wise,\n",
        "Instruct a monarch where his error lies;\n",
        "For though we deem the short-lived fury past,\n",
        "’Tis sure the mighty will revenge at last.”\n",
        "To whom Pelides:—“From thy inmost soul\n",
        "Speak what thou know’st, and speak without control.\n",
        "E’en by that god I swear who rules the day,\n",
        "To whom thy hands the vows of Greece convey.\n",
        "And whose bless’d oracles thy lips declare;\n",
        "Long as Achilles breathes this vital air,\n",
        "No daring Greek, of all the numerous band,\n",
        "Against his priest shall lift an impious hand;\n",
        "Not e’en the chief by whom our hosts are led,\n",
        "The king of kings, shall touch that sacred head.” (Pope, _Iliad_, Book 1)"
      ]
    },
    {
      "cell_type": "code",
      "execution_count": null,
      "metadata": {},
      "outputs": [],
      "source": [
        "# your code here"
      ]
    },
    {
      "cell_type": "markdown",
      "metadata": {},
      "source": [
        "### 2. Tokenization\n",
        "\n",
        "Using the variables that you have declared, tokenize each text. Be sure to normalize your tokens: do you want to include or exclude punctuation? How do you want to handle uppercase and lowercase? What Python tools might you use to accomplish these tasks quickly?"
      ]
    },
    {
      "cell_type": "code",
      "execution_count": null,
      "metadata": {},
      "outputs": [],
      "source": [
        "# your code here"
      ]
    },
    {
      "cell_type": "markdown",
      "metadata": {},
      "source": [
        "### 3. Conditionals\n",
        "\n",
        "Use conditionals and for-loops to remove the following stop words:\n",
        "\n",
        "> Definition: **stop word**: A token that is not included in analysis of the text because of its insignificance for the task at hand."
      ]
    },
    {
      "cell_type": "code",
      "execution_count": null,
      "metadata": {},
      "outputs": [],
      "source": [
        "stop_words = [\n",
        "    \"the\",\n",
        "    \"a\",\n",
        "    \"at\",\n",
        "    \"and\",\n",
        "    \"but\",\n",
        "    \"without\",\n",
        "    \"who\",\n",
        "    \"whom\",\n",
        "    \"of\",\n",
        "    \"on\"\n",
        "]\n",
        "\n",
        "# your code here"
      ]
    },
    {
      "cell_type": "markdown",
      "metadata": {},
      "source": [
        "### 4. Dictionary practice\n",
        "\n",
        "Follow the instructions in https://github.com/TuftsIntroDH/AlignedIliad."
      ]
    }
  ],
  "metadata": {
    "colab": {
      "provenance": []
    },
    "kernelspec": {
      "display_name": "Python 3 (ipykernel)",
      "language": "python",
      "name": "python3"
    },
    "language_info": {
      "codemirror_mode": {
        "name": "ipython",
        "version": 3
      },
      "file_extension": ".py",
      "mimetype": "text/x-python",
      "name": "python",
      "nbconvert_exporter": "python",
      "pygments_lexer": "ipython3",
      "version": "3.9.13"
    }
  },
  "nbformat": 4,
  "nbformat_minor": 0
}
